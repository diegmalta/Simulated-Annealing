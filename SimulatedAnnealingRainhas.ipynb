{
  "nbformat": 4,
  "nbformat_minor": 0,
  "metadata": {
    "colab": {
      "provenance": []
    },
    "kernelspec": {
      "name": "python3",
      "display_name": "Python 3"
    },
    "language_info": {
      "name": "python"
    }
  },
  "cells": [
    {
      "cell_type": "code",
      "source": [
        "from random import randrange\n",
        "import random\n",
        "import math\n",
        "import matplotlib.pyplot as plt"
      ],
      "metadata": {
        "id": "vpJYJp3I070l"
      },
      "execution_count": 1,
      "outputs": []
    },
    {
      "cell_type": "code",
      "execution_count": 2,
      "metadata": {
        "id": "r6-jyhdtzbq0"
      },
      "outputs": [],
      "source": [
        "def tabuleiro(N, Q):\n",
        "  tabuleiros = []\n",
        "  for i in range(Q):\n",
        "    tabuleiro = []\n",
        "    for i in range(N): #para cada coluna do tabuleiro\n",
        "      tabuleiro.append(randrange(N)) #Ele colocará a rainha em uma linha aleatória da coluna\n",
        "    tabuleiros.append(tabuleiro) #ele colocará o tabuleiro na lista de tabuleiros\n",
        "  return tabuleiros\n",
        "\n",
        "def todosVizinhos(T):\n",
        "  vizinhos = []\n",
        "  for i in range(len(T)):\n",
        "    tabuleiro = T.copy()\n",
        "    for j in range(len(T)):\n",
        "      if (T[i] != j):\n",
        "        tabuleiro[i] = j\n",
        "        vizinhos.append(tabuleiro.copy())#sempre que trabalhar com listas, é necessário se atentar a fazer cópias da lista, e não só criar duas variáveis apontando pro mesmo endereço\n",
        "  return vizinhos\n",
        "\n",
        "def umVizinho(T):\n",
        "  vizinhos = todosVizinhos(T)\n",
        "  return vizinhos[randrange(len(vizinhos))]\n",
        "\n",
        "def numeroAtaques(T):\n",
        "  n = len(T)\n",
        "  contador = 0\n",
        "  for i in range(n):\n",
        "    for j in range(i+1, n):\n",
        "      if(T[i] == T[j] or (abs(T[i]-T[j]) == abs(i-j))):\n",
        "        contador += 1\n",
        "  return contador\n",
        "\n",
        "tab = tabuleiro(32,1)[0]\n",
        "\n",
        "def SimulatedAnnealing(iter, Temp, a): #como visto no slide\n",
        "  EC = tab\n",
        "  print(\"estado inicial\",EC)\n",
        "  ME = EC.copy()\n",
        "  TC = Temp\n",
        "  x = []\n",
        "  y = []\n",
        "  it = 0\n",
        "  trocasMelhores = 0\n",
        "  manterIgual = 0\n",
        "  trocasAleatorias = 0\n",
        "  for i in range(iter):\n",
        "    vizinho = umVizinho(EC)\n",
        "    delta = numeroAtaques(vizinho) - numeroAtaques(EC)\n",
        "    if(delta <= 0):\n",
        "      EC = vizinho.copy() #tem q fazer a copia, se n eles apontam pro mesmo endereço\n",
        "      if(delta < 0):\n",
        "        trocasMelhores += 1\n",
        "      else:\n",
        "        manterIgual += 1\n",
        "      if(numeroAtaques(vizinho) < numeroAtaques(ME)):\n",
        "        ME = vizinho.copy()\n",
        "        it = i;\n",
        "    else:\n",
        "      if(math.exp((-delta)/TC) > random.uniform(0, 1)):\n",
        "        print(\"nó corrente:\", EC,\"próximo nó\", vizinho, \"probabilidade de troca\", math.exp((-delta)/TC))\n",
        "        EC = vizinho.copy()\n",
        "        trocasAleatorias += 1\n",
        "      else:\n",
        "        manterIgual += 1\n",
        "    TC = a*TC\n",
        "    x.append(i)\n",
        "    y.append(numeroAtaques(EC))\n",
        "  plt.plot(x,y)\n",
        "  print(\"----------------------------------------\")\n",
        "  print(\"O melhor estado foi\", ME, \"na iteração\", it)\n",
        "  print(\"com\", numeroAtaques(ME),\"possiveis ataques\")\n",
        "  print(\"O algoritmo realizou\", trocasMelhores, \"trocas para um estado melhor\")\n",
        "  print(\"O algoritmo realizou\", trocasAleatorias, \"trocas pra um estado aleatorio\")\n",
        "  print(\"O algoritmo se manteve no estado corrente\", manterIgual, \"vezes\")\n",
        "  return ME,numeroAtaques(ME)\n",
        "\n"
      ]
    },
    {
      "cell_type": "code",
      "source": [
        "ME,NA = SimulatedAnnealing(50, 100, 0.9)"
      ],
      "metadata": {
        "colab": {
          "base_uri": "https://localhost:8080/",
          "height": 780
        },
        "id": "2uBz95wy1cL8",
        "outputId": "ce004566-c550-4ee8-cdf4-273c48dfc526"
      },
      "execution_count": 3,
      "outputs": [
        {
          "output_type": "stream",
          "name": "stdout",
          "text": [
            "estado inicial [20, 16, 10, 16, 28, 4, 13, 4, 24, 7, 5, 7, 27, 26, 13, 24, 29, 5, 9, 29, 16, 12, 14, 24, 29, 21, 30, 14, 19, 5, 12, 7]\n",
            "nó corrente: [20, 16, 10, 16, 28, 4, 3, 4, 24, 7, 5, 7, 27, 26, 13, 24, 29, 5, 9, 29, 16, 12, 14, 24, 29, 21, 30, 14, 19, 5, 12, 7] próximo nó [20, 16, 10, 16, 28, 4, 3, 4, 24, 7, 5, 7, 27, 26, 13, 24, 29, 13, 9, 29, 16, 12, 14, 24, 29, 21, 30, 14, 19, 5, 12, 7] probabilidade de troca 0.9780228724846005\n",
            "nó corrente: [20, 2, 10, 1, 28, 4, 3, 4, 24, 7, 5, 7, 11, 26, 14, 24, 29, 13, 28, 29, 16, 12, 14, 24, 30, 13, 30, 14, 19, 2, 12, 25] próximo nó [20, 2, 10, 1, 28, 4, 3, 8, 24, 7, 5, 7, 11, 26, 14, 24, 29, 13, 28, 29, 16, 12, 14, 24, 30, 13, 30, 14, 19, 2, 12, 25] probabilidade de troca 0.9686360263519526\n",
            "nó corrente: [20, 2, 10, 1, 28, 4, 3, 8, 24, 7, 5, 7, 11, 26, 14, 24, 29, 13, 28, 29, 16, 12, 14, 24, 30, 13, 30, 14, 19, 2, 12, 25] próximo nó [20, 2, 10, 1, 3, 4, 3, 8, 24, 7, 5, 7, 11, 26, 14, 24, 29, 13, 28, 29, 16, 12, 14, 24, 30, 13, 30, 14, 19, 2, 12, 25] probabilidade de troca 0.9652124353467894\n",
            "nó corrente: [20, 2, 10, 1, 3, 4, 3, 8, 24, 15, 5, 7, 11, 26, 14, 24, 29, 21, 28, 29, 16, 12, 14, 17, 30, 13, 30, 14, 19, 2, 12, 25] próximo nó [20, 2, 10, 1, 3, 4, 3, 8, 24, 15, 5, 7, 11, 26, 18, 24, 29, 21, 28, 29, 16, 12, 14, 17, 30, 13, 30, 14, 19, 2, 12, 25] probabilidade de troca 0.9474643644864255\n",
            "nó corrente: [20, 2, 10, 1, 3, 4, 3, 8, 24, 15, 5, 7, 11, 26, 18, 0, 29, 21, 28, 29, 16, 12, 6, 17, 30, 13, 9, 14, 19, 2, 12, 25] próximo nó [0, 2, 10, 1, 3, 4, 3, 8, 24, 15, 5, 7, 11, 26, 18, 0, 29, 21, 28, 29, 16, 12, 6, 17, 30, 13, 9, 14, 19, 2, 12, 25] probabilidade de troca 0.9126600470402092\n",
            "nó corrente: [0, 2, 10, 1, 3, 4, 3, 8, 24, 15, 5, 7, 11, 26, 18, 0, 29, 21, 28, 29, 16, 12, 6, 17, 30, 13, 9, 14, 19, 2, 12, 25] próximo nó [0, 2, 10, 1, 3, 4, 3, 8, 24, 15, 5, 7, 11, 26, 18, 0, 29, 21, 28, 29, 16, 12, 20, 17, 30, 13, 9, 14, 19, 2, 12, 25] probabilidade de troca 0.8162023947635861\n",
            "nó corrente: [17, 2, 10, 1, 29, 4, 13, 8, 24, 15, 5, 14, 11, 26, 18, 0, 29, 21, 28, 29, 16, 12, 20, 17, 30, 13, 9, 14, 19, 2, 12, 25] próximo nó [17, 2, 10, 1, 29, 4, 13, 8, 24, 15, 5, 14, 11, 26, 18, 0, 29, 21, 28, 29, 16, 12, 20, 24, 30, 13, 9, 14, 19, 2, 12, 25] probabilidade de troca 0.7089717155473371\n",
            "nó corrente: [17, 2, 10, 1, 29, 4, 13, 8, 24, 15, 5, 14, 11, 26, 18, 0, 29, 21, 28, 29, 16, 12, 20, 24, 30, 13, 9, 14, 19, 2, 12, 25] próximo nó [17, 2, 10, 1, 29, 4, 13, 8, 24, 23, 5, 14, 11, 26, 18, 0, 29, 21, 28, 29, 16, 12, 20, 24, 30, 13, 9, 14, 19, 2, 12, 25] probabilidade de troca 0.826068498036074\n",
            "nó corrente: [17, 2, 10, 1, 29, 4, 13, 8, 24, 23, 5, 14, 11, 26, 18, 0, 29, 21, 28, 29, 16, 12, 20, 24, 30, 13, 9, 14, 19, 2, 12, 25] próximo nó [17, 2, 10, 1, 29, 4, 13, 8, 24, 23, 5, 14, 11, 26, 18, 0, 29, 21, 28, 29, 16, 12, 20, 24, 30, 13, 5, 14, 19, 2, 12, 25] probabilidade de troca 0.6540203264777815\n",
            "nó corrente: [17, 2, 10, 1, 29, 4, 13, 8, 24, 23, 5, 14, 11, 26, 18, 0, 29, 21, 28, 29, 16, 12, 20, 24, 30, 13, 5, 14, 9, 2, 12, 25] próximo nó [17, 2, 10, 1, 28, 4, 13, 8, 24, 23, 5, 14, 11, 26, 18, 0, 29, 21, 28, 29, 16, 12, 20, 24, 30, 13, 5, 14, 9, 2, 12, 25] probabilidade de troca 0.7694270243999926\n",
            "nó corrente: [17, 2, 10, 1, 28, 4, 13, 8, 24, 23, 5, 14, 11, 26, 18, 0, 29, 21, 28, 29, 16, 12, 20, 24, 30, 13, 5, 14, 9, 2, 12, 25] próximo nó [17, 2, 10, 1, 28, 4, 13, 8, 24, 23, 5, 14, 11, 26, 18, 0, 29, 21, 28, 29, 16, 12, 20, 24, 30, 13, 5, 14, 11, 2, 12, 25] probabilidade de troca 0.5585200218699072\n",
            "nó corrente: [17, 2, 10, 1, 19, 4, 13, 26, 24, 23, 5, 14, 11, 26, 18, 0, 29, 21, 28, 29, 16, 12, 20, 24, 30, 13, 5, 14, 11, 2, 12, 25] próximo nó [17, 2, 10, 1, 19, 4, 13, 26, 24, 23, 5, 14, 11, 26, 18, 0, 29, 21, 28, 29, 16, 12, 20, 24, 30, 13, 5, 20, 11, 2, 12, 25] probabilidade de troca 0.5781018863998533\n",
            "----------------------------------------\n",
            "O melhor estado foi [17, 2, 10, 1, 19, 4, 13, 22, 12, 25, 5, 14, 11, 26, 18, 0, 29, 21, 28, 24, 16, 12, 20, 3, 30, 13, 5, 20, 11, 2, 27, 25] na iteração 49\n",
            "com 19 possiveis ataques\n",
            "O algoritmo realizou 17 trocas para um estado melhor\n",
            "O algoritmo realizou 12 trocas pra um estado aleatorio\n",
            "O algoritmo se manteve no estado corrente 21 vezes\n"
          ]
        },
        {
          "output_type": "display_data",
          "data": {
            "text/plain": [
              "<Figure size 640x480 with 1 Axes>"
            ],
            "image/png": "[encoded data removed]"
          },
          "metadata": {}
        }
      ]
    }
  ]
}